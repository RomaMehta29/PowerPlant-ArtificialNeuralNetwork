{
  "nbformat": 4,
  "nbformat_minor": 0,
  "metadata": {
    "colab": {
      "name": "Power Plant Regression - Artificial Neural Network.ipynb",
      "provenance": [],
      "collapsed_sections": [],
      "toc_visible": true
    },
    "kernelspec": {
      "name": "python3",
      "display_name": "Python 3"
    }
  },
  "cells": [
    {
      "cell_type": "markdown",
      "metadata": {
        "id": "3cbb7fRy-eyr"
      },
      "source": [
        "# Artificial Neural Network"
      ]
    },
    {
      "cell_type": "markdown",
      "metadata": {
        "id": "8sNDnxE2-pwE"
      },
      "source": [
        "### Importing the libraries"
      ]
    },
    {
      "cell_type": "code",
      "metadata": {
        "id": "exWbTNzebI6A"
      },
      "source": [
        "import numpy as np\n",
        "import pandas as pd\n",
        "import tensorflow as tf"
      ],
      "execution_count": null,
      "outputs": []
    },
    {
      "cell_type": "code",
      "metadata": {
        "colab": {
          "base_uri": "https://localhost:8080/",
          "height": 36
        },
        "id": "EZXAkdOWbVgq",
        "outputId": "b298b738-049a-4061-fd49-efa820f4825d"
      },
      "source": [
        "tf.__version__"
      ],
      "execution_count": null,
      "outputs": [
        {
          "output_type": "execute_result",
          "data": {
            "application/vnd.google.colaboratory.intrinsic+json": {
              "type": "string"
            },
            "text/plain": [
              "'2.3.0'"
            ]
          },
          "metadata": {
            "tags": []
          },
          "execution_count": 3
        }
      ]
    },
    {
      "cell_type": "markdown",
      "metadata": {
        "id": "AG3FQEch-yuA"
      },
      "source": [
        "## Part 1 - Data Preprocessing"
      ]
    },
    {
      "cell_type": "markdown",
      "metadata": {
        "id": "-4zq8Mza_D9O"
      },
      "source": [
        "### Importing the dataset"
      ]
    },
    {
      "cell_type": "code",
      "metadata": {
        "id": "8B-10bggbeQV"
      },
      "source": [
        "dataset = pd.read_excel(\"Folds5x2_pp.xlsx\")\n",
        "X = dataset.iloc[:, :-1].values\n",
        "y = dataset.iloc[:, -1].values\n"
      ],
      "execution_count": null,
      "outputs": []
    },
    {
      "cell_type": "code",
      "metadata": {
        "colab": {
          "base_uri": "https://localhost:8080/"
        },
        "id": "yhw3xTdHeuxS",
        "outputId": "80c076c3-910f-48bc-aa52-bf90c1621f78"
      },
      "source": [
        "print(X)\n",
        "print(y)"
      ],
      "execution_count": null,
      "outputs": [
        {
          "output_type": "stream",
          "text": [
            "[[  14.96   41.76 1024.07   73.17]\n",
            " [  25.18   62.96 1020.04   59.08]\n",
            " [   5.11   39.4  1012.16   92.14]\n",
            " ...\n",
            " [  31.32   74.33 1012.92   36.48]\n",
            " [  24.48   69.45 1013.86   62.39]\n",
            " [  21.6    62.52 1017.23   67.87]]\n",
            "[463.26 444.37 488.56 ... 429.57 435.74 453.28]\n"
          ],
          "name": "stdout"
        }
      ]
    },
    {
      "cell_type": "markdown",
      "metadata": {
        "id": "VC6omXel_Up0"
      },
      "source": [
        "### Splitting the dataset into the Training set and Test set"
      ]
    },
    {
      "cell_type": "code",
      "metadata": {
        "id": "Jc5OTOqRer1N"
      },
      "source": [
        "from sklearn.model_selection import train_test_split\n",
        "X_train, X_test, y_train, y_test = train_test_split(X, y, test_size = 0.2, random_state = 0)"
      ],
      "execution_count": null,
      "outputs": []
    },
    {
      "cell_type": "markdown",
      "metadata": {
        "id": "_mSLlAT9_eyI"
      },
      "source": [
        "## Part 2 - Building the ANN"
      ]
    },
    {
      "cell_type": "markdown",
      "metadata": {
        "id": "CsBULd_f_wLY"
      },
      "source": [
        "### Initializing the ANN"
      ]
    },
    {
      "cell_type": "code",
      "metadata": {
        "id": "HPAmhcIHft7F"
      },
      "source": [
        "ann = tf.keras.Sequential()"
      ],
      "execution_count": null,
      "outputs": []
    },
    {
      "cell_type": "markdown",
      "metadata": {
        "id": "iitAFJS_ABUn"
      },
      "source": [
        "### Adding the input layer and the first hidden layer"
      ]
    },
    {
      "cell_type": "code",
      "metadata": {
        "id": "GucKE_e2fu2z"
      },
      "source": [
        "ann.add(tf.keras.layers.Dense(units=6, activation='relu'))"
      ],
      "execution_count": null,
      "outputs": []
    },
    {
      "cell_type": "markdown",
      "metadata": {
        "id": "-lb4kK_wAKbs"
      },
      "source": [
        "### Adding the second hidden layer"
      ]
    },
    {
      "cell_type": "code",
      "metadata": {
        "id": "1wNQouwrfvZf"
      },
      "source": [
        "ann.add(tf.keras.layers.Dense(units=6, activation='relu'))"
      ],
      "execution_count": null,
      "outputs": []
    },
    {
      "cell_type": "markdown",
      "metadata": {
        "id": "jwMOmKb3AdBY"
      },
      "source": [
        "### Adding the output layer"
      ]
    },
    {
      "cell_type": "code",
      "metadata": {
        "id": "6c4UF8YWfwHv"
      },
      "source": [
        "ann.add(tf.keras.layers.Dense(units=1))"
      ],
      "execution_count": null,
      "outputs": []
    },
    {
      "cell_type": "markdown",
      "metadata": {
        "id": "fq7e4fF6A1yy"
      },
      "source": [
        "## Part 3 - Training the ANN"
      ]
    },
    {
      "cell_type": "markdown",
      "metadata": {
        "id": "qDeylAs2An25"
      },
      "source": [
        "### Compiling the ANN"
      ]
    },
    {
      "cell_type": "code",
      "metadata": {
        "id": "dmDZUtOJjDF0"
      },
      "source": [
        "ann.compile(optimizer = 'adam', loss = 'mean_squared_error')"
      ],
      "execution_count": null,
      "outputs": []
    },
    {
      "cell_type": "markdown",
      "metadata": {
        "id": "YjVuiybYOo7r"
      },
      "source": [
        "### Training the ANN model on the Training set"
      ]
    },
    {
      "cell_type": "code",
      "metadata": {
        "colab": {
          "base_uri": "https://localhost:8080/"
        },
        "id": "REOsFs7vjM3W",
        "outputId": "b9fbda5f-13f5-4288-e86c-b154b17d4c26"
      },
      "source": [
        "ann.fit(X_train, y_train, batch_size = 32, epochs = 100)"
      ],
      "execution_count": null,
      "outputs": [
        {
          "output_type": "stream",
          "text": [
            "Epoch 1/100\n",
            "240/240 [==============================] - 0s 871us/step - loss: 78659.7969\n",
            "Epoch 2/100\n",
            "240/240 [==============================] - 0s 823us/step - loss: 1312.3461\n",
            "Epoch 3/100\n",
            "240/240 [==============================] - 0s 793us/step - loss: 383.6447\n",
            "Epoch 4/100\n",
            "240/240 [==============================] - 0s 820us/step - loss: 378.0046\n",
            "Epoch 5/100\n",
            "240/240 [==============================] - 0s 800us/step - loss: 370.9515\n",
            "Epoch 6/100\n",
            "240/240 [==============================] - 0s 811us/step - loss: 362.5974\n",
            "Epoch 7/100\n",
            "240/240 [==============================] - 0s 810us/step - loss: 353.6341\n",
            "Epoch 8/100\n",
            "240/240 [==============================] - 0s 811us/step - loss: 342.8542\n",
            "Epoch 9/100\n",
            "240/240 [==============================] - 0s 889us/step - loss: 331.6653\n",
            "Epoch 10/100\n",
            "240/240 [==============================] - 0s 787us/step - loss: 319.1804\n",
            "Epoch 11/100\n",
            "240/240 [==============================] - 0s 881us/step - loss: 305.5913\n",
            "Epoch 12/100\n",
            "240/240 [==============================] - 0s 889us/step - loss: 291.2964\n",
            "Epoch 13/100\n",
            "240/240 [==============================] - 0s 807us/step - loss: 276.5046\n",
            "Epoch 14/100\n",
            "240/240 [==============================] - 0s 827us/step - loss: 260.5011\n",
            "Epoch 15/100\n",
            "240/240 [==============================] - 0s 819us/step - loss: 243.9025\n",
            "Epoch 16/100\n",
            "240/240 [==============================] - 0s 847us/step - loss: 227.2559\n",
            "Epoch 17/100\n",
            "240/240 [==============================] - 0s 782us/step - loss: 210.7367\n",
            "Epoch 18/100\n",
            "240/240 [==============================] - 0s 792us/step - loss: 194.0101\n",
            "Epoch 19/100\n",
            "240/240 [==============================] - 0s 819us/step - loss: 177.3675\n",
            "Epoch 20/100\n",
            "240/240 [==============================] - 0s 778us/step - loss: 160.9885\n",
            "Epoch 21/100\n",
            "240/240 [==============================] - 0s 888us/step - loss: 145.9427\n",
            "Epoch 22/100\n",
            "240/240 [==============================] - 0s 792us/step - loss: 131.4483\n",
            "Epoch 23/100\n",
            "240/240 [==============================] - 0s 946us/step - loss: 118.1285\n",
            "Epoch 24/100\n",
            "240/240 [==============================] - 0s 937us/step - loss: 105.4952\n",
            "Epoch 25/100\n",
            "240/240 [==============================] - 0s 833us/step - loss: 94.4615\n",
            "Epoch 26/100\n",
            "240/240 [==============================] - 0s 866us/step - loss: 84.0731\n",
            "Epoch 27/100\n",
            "240/240 [==============================] - 0s 818us/step - loss: 74.9261\n",
            "Epoch 28/100\n",
            "240/240 [==============================] - 0s 767us/step - loss: 67.2606\n",
            "Epoch 29/100\n",
            "240/240 [==============================] - 0s 804us/step - loss: 59.7679\n",
            "Epoch 30/100\n",
            "240/240 [==============================] - 0s 836us/step - loss: 53.5572\n",
            "Epoch 31/100\n",
            "240/240 [==============================] - 0s 930us/step - loss: 48.2986\n",
            "Epoch 32/100\n",
            "240/240 [==============================] - 0s 854us/step - loss: 43.8452\n",
            "Epoch 33/100\n",
            "240/240 [==============================] - 0s 786us/step - loss: 40.5515\n",
            "Epoch 34/100\n",
            "240/240 [==============================] - 0s 786us/step - loss: 37.9774\n",
            "Epoch 35/100\n",
            "240/240 [==============================] - 0s 806us/step - loss: 35.7880\n",
            "Epoch 36/100\n",
            "240/240 [==============================] - 0s 798us/step - loss: 33.6378\n",
            "Epoch 37/100\n",
            "240/240 [==============================] - 0s 787us/step - loss: 32.5115\n",
            "Epoch 38/100\n",
            "240/240 [==============================] - 0s 820us/step - loss: 31.7833\n",
            "Epoch 39/100\n",
            "240/240 [==============================] - 0s 797us/step - loss: 31.1513\n",
            "Epoch 40/100\n",
            "240/240 [==============================] - 0s 790us/step - loss: 30.2289\n",
            "Epoch 41/100\n",
            "240/240 [==============================] - 0s 842us/step - loss: 29.7543\n",
            "Epoch 42/100\n",
            "240/240 [==============================] - 0s 832us/step - loss: 29.4782\n",
            "Epoch 43/100\n",
            "240/240 [==============================] - 0s 826us/step - loss: 29.1418\n",
            "Epoch 44/100\n",
            "240/240 [==============================] - 0s 795us/step - loss: 29.1486\n",
            "Epoch 45/100\n",
            "240/240 [==============================] - 0s 887us/step - loss: 28.4632\n",
            "Epoch 46/100\n",
            "240/240 [==============================] - 0s 831us/step - loss: 28.1776\n",
            "Epoch 47/100\n",
            "240/240 [==============================] - 0s 937us/step - loss: 28.0440\n",
            "Epoch 48/100\n",
            "240/240 [==============================] - 0s 922us/step - loss: 28.0742\n",
            "Epoch 49/100\n",
            "240/240 [==============================] - 0s 944us/step - loss: 28.2201\n",
            "Epoch 50/100\n",
            "240/240 [==============================] - 0s 911us/step - loss: 27.8616\n",
            "Epoch 51/100\n",
            "240/240 [==============================] - 0s 795us/step - loss: 27.5272\n",
            "Epoch 52/100\n",
            "240/240 [==============================] - 0s 787us/step - loss: 27.3145\n",
            "Epoch 53/100\n",
            "240/240 [==============================] - 0s 784us/step - loss: 27.4742\n",
            "Epoch 54/100\n",
            "240/240 [==============================] - 0s 837us/step - loss: 27.3157\n",
            "Epoch 55/100\n",
            "240/240 [==============================] - 0s 885us/step - loss: 26.8876\n",
            "Epoch 56/100\n",
            "240/240 [==============================] - 0s 777us/step - loss: 27.0615\n",
            "Epoch 57/100\n",
            "240/240 [==============================] - 0s 773us/step - loss: 26.5707\n",
            "Epoch 58/100\n",
            "240/240 [==============================] - 0s 832us/step - loss: 26.7839\n",
            "Epoch 59/100\n",
            "240/240 [==============================] - 0s 912us/step - loss: 26.7770\n",
            "Epoch 60/100\n",
            "240/240 [==============================] - 0s 838us/step - loss: 26.5829\n",
            "Epoch 61/100\n",
            "240/240 [==============================] - 0s 823us/step - loss: 26.8182\n",
            "Epoch 62/100\n",
            "240/240 [==============================] - 0s 848us/step - loss: 26.6615\n",
            "Epoch 63/100\n",
            "240/240 [==============================] - 0s 927us/step - loss: 26.9726\n",
            "Epoch 64/100\n",
            "240/240 [==============================] - 0s 820us/step - loss: 27.1908\n",
            "Epoch 65/100\n",
            "240/240 [==============================] - 0s 958us/step - loss: 26.7556\n",
            "Epoch 66/100\n",
            "240/240 [==============================] - 0s 809us/step - loss: 26.5931\n",
            "Epoch 67/100\n",
            "240/240 [==============================] - 0s 813us/step - loss: 26.4520\n",
            "Epoch 68/100\n",
            "240/240 [==============================] - 0s 801us/step - loss: 27.0377\n",
            "Epoch 69/100\n",
            "240/240 [==============================] - 0s 935us/step - loss: 26.9894\n",
            "Epoch 70/100\n",
            "240/240 [==============================] - 0s 859us/step - loss: 26.8204\n",
            "Epoch 71/100\n",
            "240/240 [==============================] - 0s 859us/step - loss: 26.9472\n",
            "Epoch 72/100\n",
            "240/240 [==============================] - 0s 801us/step - loss: 26.9663\n",
            "Epoch 73/100\n",
            "240/240 [==============================] - 0s 826us/step - loss: 26.3827\n",
            "Epoch 74/100\n",
            "240/240 [==============================] - 0s 783us/step - loss: 26.6049\n",
            "Epoch 75/100\n",
            "240/240 [==============================] - 0s 867us/step - loss: 26.3829\n",
            "Epoch 76/100\n",
            "240/240 [==============================] - 0s 800us/step - loss: 26.3422\n",
            "Epoch 77/100\n",
            "240/240 [==============================] - 0s 818us/step - loss: 27.4375\n",
            "Epoch 78/100\n",
            "240/240 [==============================] - 0s 824us/step - loss: 26.6509\n",
            "Epoch 79/100\n",
            "240/240 [==============================] - 0s 832us/step - loss: 26.4520\n",
            "Epoch 80/100\n",
            "240/240 [==============================] - 0s 827us/step - loss: 26.7165\n",
            "Epoch 81/100\n",
            "240/240 [==============================] - 0s 950us/step - loss: 26.5984\n",
            "Epoch 82/100\n",
            "240/240 [==============================] - 0s 814us/step - loss: 26.3051\n",
            "Epoch 83/100\n",
            "240/240 [==============================] - 0s 813us/step - loss: 26.4740\n",
            "Epoch 84/100\n",
            "240/240 [==============================] - 0s 852us/step - loss: 26.5820\n",
            "Epoch 85/100\n",
            "240/240 [==============================] - 0s 871us/step - loss: 26.4631\n",
            "Epoch 86/100\n",
            "240/240 [==============================] - 0s 781us/step - loss: 26.6538\n",
            "Epoch 87/100\n",
            "240/240 [==============================] - 0s 820us/step - loss: 26.6276\n",
            "Epoch 88/100\n",
            "240/240 [==============================] - 0s 817us/step - loss: 26.8965\n",
            "Epoch 89/100\n",
            "240/240 [==============================] - 0s 866us/step - loss: 27.3617\n",
            "Epoch 90/100\n",
            "240/240 [==============================] - 0s 976us/step - loss: 26.4130\n",
            "Epoch 91/100\n",
            "240/240 [==============================] - 0s 957us/step - loss: 26.7962\n",
            "Epoch 92/100\n",
            "240/240 [==============================] - 0s 817us/step - loss: 26.3952\n",
            "Epoch 93/100\n",
            "240/240 [==============================] - 0s 923us/step - loss: 26.4224\n",
            "Epoch 94/100\n",
            "240/240 [==============================] - 0s 860us/step - loss: 26.4270\n",
            "Epoch 95/100\n",
            "240/240 [==============================] - 0s 842us/step - loss: 26.4626\n",
            "Epoch 96/100\n",
            "240/240 [==============================] - 0s 891us/step - loss: 26.5189\n",
            "Epoch 97/100\n",
            "240/240 [==============================] - 0s 814us/step - loss: 26.2530\n",
            "Epoch 98/100\n",
            "240/240 [==============================] - 0s 878us/step - loss: 26.6898\n",
            "Epoch 99/100\n",
            "240/240 [==============================] - 0s 777us/step - loss: 26.2949\n",
            "Epoch 100/100\n",
            "240/240 [==============================] - 0s 891us/step - loss: 26.6593\n"
          ],
          "name": "stdout"
        },
        {
          "output_type": "execute_result",
          "data": {
            "text/plain": [
              "<tensorflow.python.keras.callbacks.History at 0x7f1e00a811d0>"
            ]
          },
          "metadata": {
            "tags": []
          },
          "execution_count": 13
        }
      ]
    },
    {
      "cell_type": "markdown",
      "metadata": {
        "id": "0H0zKKNEBLD5"
      },
      "source": [
        "### Predicting the results of the Test set"
      ]
    },
    {
      "cell_type": "code",
      "metadata": {
        "colab": {
          "base_uri": "https://localhost:8080/"
        },
        "id": "7W2RLCkZjOMc",
        "outputId": "f631ebf9-6922-4da4-9f33-687294459718"
      },
      "source": [
        "y_pred = ann.predict(X_test)\n",
        "np.set_printoptions(precision=2)\n",
        "print(np.concatenate((y_pred.reshape(len(y_pred), 1), y_test.reshape(len(y_test), 1)), 1))\n"
      ],
      "execution_count": null,
      "outputs": [
        {
          "output_type": "stream",
          "text": [
            "[[430.9  431.23]\n",
            " [461.94 460.01]\n",
            " [465.44 461.14]\n",
            " ...\n",
            " [472.66 473.26]\n",
            " [439.53 438.  ]\n",
            " [458.7  463.28]]\n"
          ],
          "name": "stdout"
        }
      ]
    }
  ]
}